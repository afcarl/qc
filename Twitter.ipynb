{
 "cells": [
  {
   "cell_type": "code",
   "execution_count": 1,
   "metadata": {
    "collapsed": false
   },
   "outputs": [
    {
     "name": "stdout",
     "output_type": "stream",
     "text": [
      "Populating the interactive namespace from numpy and matplotlib\n"
     ]
    }
   ],
   "source": [
    "# Display plots in the notebook\n",
    "%pylab inline"
   ]
  },
  {
   "cell_type": "code",
   "execution_count": 2,
   "metadata": {
    "collapsed": true
   },
   "outputs": [],
   "source": [
    "import pylab as pl\n",
    "pl.style.use('fivethirtyeight')\n",
    "import numpy as np\n",
    "import pandas as pd\n",
    "import datetime"
   ]
  },
  {
   "cell_type": "code",
   "execution_count": 30,
   "metadata": {
    "collapsed": false
   },
   "outputs": [],
   "source": [
    "def convertDate(d):\n",
    "    dt = datetime.datetime.strptime(d, '%Y-%m-%d %H:%M:%S')\n",
    "    #dt = dt.replace(minute=(dt.minute / 20) * 10, second=0, microsecond=0)\n",
    "    dt = dt.replace(minute=0, second=0, microsecond=0)\n",
    "    dt = dt - datetime.timedelta(hours=5)\n",
    "    return dt\n",
    "\n",
    "tweets = pd.read_csv('tweets.csv', converters={'timestamp': convertDate})#, parse_dates=[1])"
   ]
  },
  {
   "cell_type": "code",
   "execution_count": 31,
   "metadata": {
    "collapsed": false
   },
   "outputs": [],
   "source": [
    "agg = tweets.groupby('timestamp').count()['tweet']"
   ]
  },
  {
   "cell_type": "code",
   "execution_count": 1,
   "metadata": {
    "collapsed": false
   },
   "outputs": [
    {
     "ename": "NameError",
     "evalue": "name 'pl' is not defined",
     "output_type": "error",
     "traceback": [
      "\u001b[1;31m---------------------------------------------------------------------------\u001b[0m",
      "\u001b[1;31mNameError\u001b[0m                                 Traceback (most recent call last)",
      "\u001b[1;32m<ipython-input-1-cb20db1a12cf>\u001b[0m in \u001b[0;36m<module>\u001b[1;34m()\u001b[0m\n\u001b[1;32m----> 1\u001b[1;33m \u001b[0mfigure\u001b[0m\u001b[1;33m,\u001b[0m \u001b[0max\u001b[0m \u001b[1;33m=\u001b[0m \u001b[0mpl\u001b[0m\u001b[1;33m.\u001b[0m\u001b[0msubplots\u001b[0m\u001b[1;33m(\u001b[0m\u001b[0mfigsize\u001b[0m\u001b[1;33m=\u001b[0m\u001b[1;33m(\u001b[0m\u001b[1;36m32\u001b[0m\u001b[1;33m,\u001b[0m\u001b[1;36m10\u001b[0m\u001b[1;33m)\u001b[0m\u001b[1;33m)\u001b[0m\u001b[1;33m\u001b[0m\u001b[0m\n\u001b[0m\u001b[0;32m      2\u001b[0m \u001b[0max\u001b[0m\u001b[1;33m.\u001b[0m\u001b[0mplot_date\u001b[0m\u001b[1;33m(\u001b[0m\u001b[0mnp\u001b[0m\u001b[1;33m.\u001b[0m\u001b[0munique\u001b[0m\u001b[1;33m(\u001b[0m\u001b[0mtweets\u001b[0m\u001b[1;33m[\u001b[0m\u001b[1;34m'timestamp'\u001b[0m\u001b[1;33m]\u001b[0m\u001b[1;33m)\u001b[0m\u001b[1;33m,\u001b[0m \u001b[0magg\u001b[0m\u001b[1;33m,\u001b[0m \u001b[1;34m'-'\u001b[0m\u001b[1;33m)\u001b[0m\u001b[1;33m\u001b[0m\u001b[0m\n\u001b[0;32m      3\u001b[0m \u001b[0max\u001b[0m\u001b[1;33m.\u001b[0m\u001b[0mset_title\u001b[0m\u001b[1;33m(\u001b[0m\u001b[1;34m'Number of Tweets over Time In 1 Hour Intervals'\u001b[0m\u001b[1;33m)\u001b[0m\u001b[1;33m\u001b[0m\u001b[0m\n\u001b[0;32m      4\u001b[0m \u001b[0max\u001b[0m\u001b[1;33m.\u001b[0m\u001b[0mset_ylabel\u001b[0m\u001b[1;33m(\u001b[0m\u001b[1;34m'Number of Tweets'\u001b[0m\u001b[1;33m)\u001b[0m\u001b[1;33m\u001b[0m\u001b[0m\n\u001b[0;32m      5\u001b[0m \u001b[0max\u001b[0m\u001b[1;33m.\u001b[0m\u001b[0mset_xlabel\u001b[0m\u001b[1;33m(\u001b[0m\u001b[1;34m'Time'\u001b[0m\u001b[1;33m)\u001b[0m\u001b[1;33m\u001b[0m\u001b[0m\n",
      "\u001b[1;31mNameError\u001b[0m: name 'pl' is not defined"
     ]
    }
   ],
   "source": [
    "figure, ax = pl.subplots(figsize=(32,10))\n",
    "ax.plot_date(np.unique(tweets['timestamp']), agg, '-')\n",
    "ax.set_title('Number of Tweets over Time In 1 Hour Intervals')\n",
    "ax.set_ylabel('Number of Tweets')\n",
    "ax.set_xlabel('Time')\n",
    "ticks = np.repeat(datetime.datetime(year=2015, month=11, day=4), 32) + datetime.timedelta(hours=6)*np.arange(32)\n",
    "ax.set_xticks(ticks)\n",
    "ax.set_xticklabels([d.strftime('%a %b %d') if d.hour == 0 else d.hour for d in ticks])"
   ]
  },
  {
   "cell_type": "code",
   "execution_count": 44,
   "metadata": {
    "collapsed": false
   },
   "outputs": [
    {
     "data": {
      "text/plain": [
       "array([datetime.datetime(2015, 11, 4, 0, 0),\n",
       "       datetime.datetime(2015, 11, 4, 12, 0),\n",
       "       datetime.datetime(2015, 11, 5, 0, 0),\n",
       "       datetime.datetime(2015, 11, 5, 12, 0),\n",
       "       datetime.datetime(2015, 11, 6, 0, 0),\n",
       "       datetime.datetime(2015, 11, 6, 12, 0),\n",
       "       datetime.datetime(2015, 11, 7, 0, 0),\n",
       "       datetime.datetime(2015, 11, 7, 12, 0),\n",
       "       datetime.datetime(2015, 11, 8, 0, 0),\n",
       "       datetime.datetime(2015, 11, 8, 12, 0),\n",
       "       datetime.datetime(2015, 11, 9, 0, 0),\n",
       "       datetime.datetime(2015, 11, 9, 12, 0),\n",
       "       datetime.datetime(2015, 11, 10, 0, 0),\n",
       "       datetime.datetime(2015, 11, 10, 12, 0),\n",
       "       datetime.datetime(2015, 11, 11, 0, 0),\n",
       "       datetime.datetime(2015, 11, 11, 12, 0)], dtype=object)"
      ]
     },
     "execution_count": 44,
     "metadata": {},
     "output_type": "execute_result"
    }
   ],
   "source": [
    "np.repeat(datetime.datetime(year=2015, month=11, day=4), 16) + datetime.timedelta(hours=12)*np.arange(16)"
   ]
  },
  {
   "cell_type": "code",
   "execution_count": null,
   "metadata": {
    "collapsed": true
   },
   "outputs": [],
   "source": []
  }
 ],
 "metadata": {
  "kernelspec": {
   "display_name": "Python 2",
   "language": "python",
   "name": "python2"
  },
  "language_info": {
   "codemirror_mode": {
    "name": "ipython",
    "version": 2
   },
   "file_extension": ".py",
   "mimetype": "text/x-python",
   "name": "python",
   "nbconvert_exporter": "python",
   "pygments_lexer": "ipython2",
   "version": "2.7.10"
  }
 },
 "nbformat": 4,
 "nbformat_minor": 0
}
